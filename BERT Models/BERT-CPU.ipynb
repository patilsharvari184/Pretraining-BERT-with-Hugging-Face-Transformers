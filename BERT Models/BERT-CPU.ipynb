{
 "cells": [
  {
   "cell_type": "code",
   "execution_count": null,
   "id": "d125ee8d-e207-47a0-a20d-fc2ab028b72b",
   "metadata": {},
   "outputs": [],
   "source": [
    "import pandas as pd\n",
    "from sklearn.model_selection import train_test_split\n",
    "from transformers import BertForSequenceClassification\n",
    "from transformers import AutoTokenizer\n",
    "import torch\n",
    "from torch.utils.data import Dataset, DataLoader\n",
    "from torch.optim import AdamW"
   ]
  },
  {
   "cell_type": "code",
   "execution_count": 2,
   "id": "4b0d038b-5662-40f4-b6a7-d458bb451b26",
   "metadata": {},
   "outputs": [
    {
     "data": {
      "text/html": [
       "<div>\n",
       "<style scoped>\n",
       "    .dataframe tbody tr th:only-of-type {\n",
       "        vertical-align: middle;\n",
       "    }\n",
       "\n",
       "    .dataframe tbody tr th {\n",
       "        vertical-align: top;\n",
       "    }\n",
       "\n",
       "    .dataframe thead th {\n",
       "        text-align: right;\n",
       "    }\n",
       "</style>\n",
       "<table border=\"1\" class=\"dataframe\">\n",
       "  <thead>\n",
       "    <tr style=\"text-align: right;\">\n",
       "      <th></th>\n",
       "      <th>Year</th>\n",
       "      <th>Month</th>\n",
       "      <th>Day</th>\n",
       "      <th>Time of Tweet</th>\n",
       "      <th>text</th>\n",
       "      <th>sentiment</th>\n",
       "      <th>Platform</th>\n",
       "    </tr>\n",
       "  </thead>\n",
       "  <tbody>\n",
       "    <tr>\n",
       "      <th>0</th>\n",
       "      <td>2018</td>\n",
       "      <td>8</td>\n",
       "      <td>18</td>\n",
       "      <td>morning</td>\n",
       "      <td>What a great day!!! Looks like dream.</td>\n",
       "      <td>positive</td>\n",
       "      <td>Twitter</td>\n",
       "    </tr>\n",
       "    <tr>\n",
       "      <th>1</th>\n",
       "      <td>2018</td>\n",
       "      <td>8</td>\n",
       "      <td>18</td>\n",
       "      <td>noon</td>\n",
       "      <td>I feel sorry, I miss you here in the sea beach</td>\n",
       "      <td>positive</td>\n",
       "      <td>Facebook</td>\n",
       "    </tr>\n",
       "    <tr>\n",
       "      <th>2</th>\n",
       "      <td>2017</td>\n",
       "      <td>8</td>\n",
       "      <td>18</td>\n",
       "      <td>night</td>\n",
       "      <td>Don't angry me</td>\n",
       "      <td>negative</td>\n",
       "      <td>Facebook</td>\n",
       "    </tr>\n",
       "    <tr>\n",
       "      <th>3</th>\n",
       "      <td>2022</td>\n",
       "      <td>6</td>\n",
       "      <td>8</td>\n",
       "      <td>morning</td>\n",
       "      <td>We attend in the class just for listening teac...</td>\n",
       "      <td>negative</td>\n",
       "      <td>Facebook</td>\n",
       "    </tr>\n",
       "    <tr>\n",
       "      <th>4</th>\n",
       "      <td>2022</td>\n",
       "      <td>6</td>\n",
       "      <td>8</td>\n",
       "      <td>noon</td>\n",
       "      <td>Those who want to go, let them go</td>\n",
       "      <td>negative</td>\n",
       "      <td>Instagram</td>\n",
       "    </tr>\n",
       "  </tbody>\n",
       "</table>\n",
       "</div>"
      ],
      "text/plain": [
       "   Year  Month  Day Time of Tweet  \\\n",
       "0  2018      8   18       morning   \n",
       "1  2018      8   18          noon   \n",
       "2  2017      8   18         night   \n",
       "3  2022      6    8       morning   \n",
       "4  2022      6    8          noon   \n",
       "\n",
       "                                                text sentiment     Platform  \n",
       "0              What a great day!!! Looks like dream.  positive    Twitter    \n",
       "1     I feel sorry, I miss you here in the sea beach  positive    Facebook   \n",
       "2                                     Don't angry me  negative     Facebook  \n",
       "3  We attend in the class just for listening teac...  negative    Facebook   \n",
       "4                  Those who want to go, let them go  negative   Instagram   "
      ]
     },
     "execution_count": 2,
     "metadata": {},
     "output_type": "execute_result"
    }
   ],
   "source": [
    "df = pd.read_csv(\"sentiment_analysis.csv\")\n",
    "df.head()"
   ]
  },
  {
   "cell_type": "code",
   "execution_count": 3,
   "id": "7bd72d61-123f-4e60-8389-a33e04ecc98b",
   "metadata": {},
   "outputs": [],
   "source": [
    "df.drop([\"Day\", 'Year', 'Month', 'Time of Tweet', 'Platform'], inplace=True, axis=1)"
   ]
  },
  {
   "cell_type": "code",
   "execution_count": 4,
   "id": "dfa1ad44-febf-469c-a90a-de649f5a2b85",
   "metadata": {},
   "outputs": [
    {
     "data": {
      "text/html": [
       "<div>\n",
       "<style scoped>\n",
       "    .dataframe tbody tr th:only-of-type {\n",
       "        vertical-align: middle;\n",
       "    }\n",
       "\n",
       "    .dataframe tbody tr th {\n",
       "        vertical-align: top;\n",
       "    }\n",
       "\n",
       "    .dataframe thead th {\n",
       "        text-align: right;\n",
       "    }\n",
       "</style>\n",
       "<table border=\"1\" class=\"dataframe\">\n",
       "  <thead>\n",
       "    <tr style=\"text-align: right;\">\n",
       "      <th></th>\n",
       "      <th>text</th>\n",
       "      <th>sentiment</th>\n",
       "    </tr>\n",
       "  </thead>\n",
       "  <tbody>\n",
       "    <tr>\n",
       "      <th>0</th>\n",
       "      <td>What a great day!!! Looks like dream.</td>\n",
       "      <td>positive</td>\n",
       "    </tr>\n",
       "    <tr>\n",
       "      <th>1</th>\n",
       "      <td>I feel sorry, I miss you here in the sea beach</td>\n",
       "      <td>positive</td>\n",
       "    </tr>\n",
       "    <tr>\n",
       "      <th>2</th>\n",
       "      <td>Don't angry me</td>\n",
       "      <td>negative</td>\n",
       "    </tr>\n",
       "    <tr>\n",
       "      <th>3</th>\n",
       "      <td>We attend in the class just for listening teac...</td>\n",
       "      <td>negative</td>\n",
       "    </tr>\n",
       "    <tr>\n",
       "      <th>4</th>\n",
       "      <td>Those who want to go, let them go</td>\n",
       "      <td>negative</td>\n",
       "    </tr>\n",
       "  </tbody>\n",
       "</table>\n",
       "</div>"
      ],
      "text/plain": [
       "                                                text sentiment\n",
       "0              What a great day!!! Looks like dream.  positive\n",
       "1     I feel sorry, I miss you here in the sea beach  positive\n",
       "2                                     Don't angry me  negative\n",
       "3  We attend in the class just for listening teac...  negative\n",
       "4                  Those who want to go, let them go  negative"
      ]
     },
     "execution_count": 4,
     "metadata": {},
     "output_type": "execute_result"
    }
   ],
   "source": [
    "df.head()"
   ]
  },
  {
   "cell_type": "code",
   "execution_count": 5,
   "id": "40c45074-432d-47e7-bc79-fffbae6943b4",
   "metadata": {},
   "outputs": [
    {
     "data": {
      "text/plain": [
       "array(['positive', 'negative', 'neutral'], dtype=object)"
      ]
     },
     "execution_count": 5,
     "metadata": {},
     "output_type": "execute_result"
    }
   ],
   "source": [
    "df[\"sentiment\"].unique()"
   ]
  },
  {
   "cell_type": "code",
   "execution_count": 6,
   "id": "018e1ded-b850-4214-aa7a-f13134185813",
   "metadata": {},
   "outputs": [],
   "source": [
    "from sklearn.preprocessing import LabelEncoder"
   ]
  },
  {
   "cell_type": "code",
   "execution_count": 7,
   "id": "38d88288-e935-4014-94af-71702cf5952a",
   "metadata": {},
   "outputs": [],
   "source": [
    "lb = LabelEncoder()\n",
    "df[\"label_sentiment\"] = lb.fit_transform(df[\"sentiment\"])"
   ]
  },
  {
   "cell_type": "code",
   "execution_count": 8,
   "id": "196e3348-62ad-4bbe-b802-3ed0a27b956d",
   "metadata": {},
   "outputs": [
    {
     "data": {
      "text/html": [
       "<div>\n",
       "<style scoped>\n",
       "    .dataframe tbody tr th:only-of-type {\n",
       "        vertical-align: middle;\n",
       "    }\n",
       "\n",
       "    .dataframe tbody tr th {\n",
       "        vertical-align: top;\n",
       "    }\n",
       "\n",
       "    .dataframe thead th {\n",
       "        text-align: right;\n",
       "    }\n",
       "</style>\n",
       "<table border=\"1\" class=\"dataframe\">\n",
       "  <thead>\n",
       "    <tr style=\"text-align: right;\">\n",
       "      <th></th>\n",
       "      <th>text</th>\n",
       "      <th>sentiment</th>\n",
       "      <th>label_sentiment</th>\n",
       "    </tr>\n",
       "  </thead>\n",
       "  <tbody>\n",
       "    <tr>\n",
       "      <th>0</th>\n",
       "      <td>What a great day!!! Looks like dream.</td>\n",
       "      <td>positive</td>\n",
       "      <td>2</td>\n",
       "    </tr>\n",
       "    <tr>\n",
       "      <th>1</th>\n",
       "      <td>I feel sorry, I miss you here in the sea beach</td>\n",
       "      <td>positive</td>\n",
       "      <td>2</td>\n",
       "    </tr>\n",
       "    <tr>\n",
       "      <th>2</th>\n",
       "      <td>Don't angry me</td>\n",
       "      <td>negative</td>\n",
       "      <td>0</td>\n",
       "    </tr>\n",
       "    <tr>\n",
       "      <th>3</th>\n",
       "      <td>We attend in the class just for listening teac...</td>\n",
       "      <td>negative</td>\n",
       "      <td>0</td>\n",
       "    </tr>\n",
       "    <tr>\n",
       "      <th>4</th>\n",
       "      <td>Those who want to go, let them go</td>\n",
       "      <td>negative</td>\n",
       "      <td>0</td>\n",
       "    </tr>\n",
       "  </tbody>\n",
       "</table>\n",
       "</div>"
      ],
      "text/plain": [
       "                                                text sentiment  \\\n",
       "0              What a great day!!! Looks like dream.  positive   \n",
       "1     I feel sorry, I miss you here in the sea beach  positive   \n",
       "2                                     Don't angry me  negative   \n",
       "3  We attend in the class just for listening teac...  negative   \n",
       "4                  Those who want to go, let them go  negative   \n",
       "\n",
       "   label_sentiment  \n",
       "0                2  \n",
       "1                2  \n",
       "2                0  \n",
       "3                0  \n",
       "4                0  "
      ]
     },
     "execution_count": 8,
     "metadata": {},
     "output_type": "execute_result"
    }
   ],
   "source": [
    "df.head()"
   ]
  },
  {
   "cell_type": "code",
   "execution_count": 9,
   "id": "fe6b883b-eef2-4fa9-bae7-b1ce49c827ea",
   "metadata": {},
   "outputs": [
    {
     "data": {
      "text/plain": [
       "text               0\n",
       "sentiment          0\n",
       "label_sentiment    0\n",
       "dtype: int64"
      ]
     },
     "execution_count": 9,
     "metadata": {},
     "output_type": "execute_result"
    }
   ],
   "source": [
    "df.isnull().sum()"
   ]
  },
  {
   "cell_type": "code",
   "execution_count": 10,
   "id": "1d75285b-a9d6-4bba-a8cf-7f220fde1ab3",
   "metadata": {},
   "outputs": [
    {
     "data": {
      "text/plain": [
       "sentiment\n",
       "neutral     199\n",
       "positive    166\n",
       "negative    134\n",
       "Name: count, dtype: int64"
      ]
     },
     "execution_count": 10,
     "metadata": {},
     "output_type": "execute_result"
    }
   ],
   "source": [
    "df[\"sentiment\"].value_counts()"
   ]
  },
  {
   "cell_type": "code",
   "execution_count": 11,
   "id": "aa5ad03c-f3e7-456a-bb66-ae7a9799929e",
   "metadata": {
    "scrolled": true
   },
   "outputs": [],
   "source": [
    "import matplotlib.pyplot as plt"
   ]
  },
  {
   "cell_type": "code",
   "execution_count": 12,
   "id": "ef9d0524-7123-488b-a1bf-f71eee202f37",
   "metadata": {},
   "outputs": [
    {
     "data": {
      "image/png": "[encoded data removed]",
      "text/plain": [
       "<Figure size 640x480 with 1 Axes>"
      ]
     },
     "metadata": {},
     "output_type": "display_data"
    }
   ],
   "source": [
    "value_counts = df[\"sentiment\"].value_counts()\n",
    "ax = value_counts.plot(kind='bar')\n",
    "\n",
    "ax.set_xticklabels(['positive', 'negative', 'neutral'], rotation=0)\n",
    "\n",
    "plt.title('Distribution of Emotions')\n",
    "plt.xlabel('Emotions')\n",
    "plt.ylabel('Counts')\n",
    "\n",
    "plt.show()"
   ]
  },
  {
   "cell_type": "code",
   "execution_count": 13,
   "id": "fbb5bd8e-08e9-4033-91c9-48bad73d4664",
   "metadata": {},
   "outputs": [
    {
     "data": {
      "text/html": [
       "<div>\n",
       "<style scoped>\n",
       "    .dataframe tbody tr th:only-of-type {\n",
       "        vertical-align: middle;\n",
       "    }\n",
       "\n",
       "    .dataframe tbody tr th {\n",
       "        vertical-align: top;\n",
       "    }\n",
       "\n",
       "    .dataframe thead th {\n",
       "        text-align: right;\n",
       "    }\n",
       "</style>\n",
       "<table border=\"1\" class=\"dataframe\">\n",
       "  <thead>\n",
       "    <tr style=\"text-align: right;\">\n",
       "      <th></th>\n",
       "      <th>text</th>\n",
       "      <th>sentiment</th>\n",
       "      <th>label_sentiment</th>\n",
       "    </tr>\n",
       "  </thead>\n",
       "  <tbody>\n",
       "    <tr>\n",
       "      <th>0</th>\n",
       "      <td>What a great day!!! Looks like dream.</td>\n",
       "      <td>positive</td>\n",
       "      <td>2</td>\n",
       "    </tr>\n",
       "    <tr>\n",
       "      <th>1</th>\n",
       "      <td>I feel sorry, I miss you here in the sea beach</td>\n",
       "      <td>positive</td>\n",
       "      <td>2</td>\n",
       "    </tr>\n",
       "    <tr>\n",
       "      <th>2</th>\n",
       "      <td>Don't angry me</td>\n",
       "      <td>negative</td>\n",
       "      <td>0</td>\n",
       "    </tr>\n",
       "    <tr>\n",
       "      <th>3</th>\n",
       "      <td>We attend in the class just for listening teac...</td>\n",
       "      <td>negative</td>\n",
       "      <td>0</td>\n",
       "    </tr>\n",
       "    <tr>\n",
       "      <th>4</th>\n",
       "      <td>Those who want to go, let them go</td>\n",
       "      <td>negative</td>\n",
       "      <td>0</td>\n",
       "    </tr>\n",
       "    <tr>\n",
       "      <th>...</th>\n",
       "      <td>...</td>\n",
       "      <td>...</td>\n",
       "      <td>...</td>\n",
       "    </tr>\n",
       "    <tr>\n",
       "      <th>494</th>\n",
       "      <td>According to , a quarter of families under six...</td>\n",
       "      <td>negative</td>\n",
       "      <td>0</td>\n",
       "    </tr>\n",
       "    <tr>\n",
       "      <th>495</th>\n",
       "      <td>the plan to not spend money is not going well</td>\n",
       "      <td>negative</td>\n",
       "      <td>0</td>\n",
       "    </tr>\n",
       "    <tr>\n",
       "      <th>496</th>\n",
       "      <td>uploading all my bamboozle pictures of facebook</td>\n",
       "      <td>neutral</td>\n",
       "      <td>1</td>\n",
       "    </tr>\n",
       "    <tr>\n",
       "      <th>497</th>\n",
       "      <td>congratulations ! you guys finish a month ear...</td>\n",
       "      <td>positive</td>\n",
       "      <td>2</td>\n",
       "    </tr>\n",
       "    <tr>\n",
       "      <th>498</th>\n",
       "      <td>actually, I wish I was back in Tahoe.  I miss...</td>\n",
       "      <td>negative</td>\n",
       "      <td>0</td>\n",
       "    </tr>\n",
       "  </tbody>\n",
       "</table>\n",
       "<p>499 rows × 3 columns</p>\n",
       "</div>"
      ],
      "text/plain": [
       "                                                  text sentiment  \\\n",
       "0                What a great day!!! Looks like dream.  positive   \n",
       "1       I feel sorry, I miss you here in the sea beach  positive   \n",
       "2                                       Don't angry me  negative   \n",
       "3    We attend in the class just for listening teac...  negative   \n",
       "4                    Those who want to go, let them go  negative   \n",
       "..                                                 ...       ...   \n",
       "494  According to , a quarter of families under six...  negative   \n",
       "495      the plan to not spend money is not going well  negative   \n",
       "496    uploading all my bamboozle pictures of facebook   neutral   \n",
       "497   congratulations ! you guys finish a month ear...  positive   \n",
       "498   actually, I wish I was back in Tahoe.  I miss...  negative   \n",
       "\n",
       "     label_sentiment  \n",
       "0                  2  \n",
       "1                  2  \n",
       "2                  0  \n",
       "3                  0  \n",
       "4                  0  \n",
       "..               ...  \n",
       "494                0  \n",
       "495                0  \n",
       "496                1  \n",
       "497                2  \n",
       "498                0  \n",
       "\n",
       "[499 rows x 3 columns]"
      ]
     },
     "execution_count": 13,
     "metadata": {},
     "output_type": "execute_result"
    }
   ],
   "source": [
    "df"
   ]
  },
  {
   "cell_type": "code",
   "execution_count": 14,
   "id": "f297b379-1685-4ea0-ac08-983198b229f1",
   "metadata": {},
   "outputs": [],
   "source": [
    "x_train, x_test, y_train, y_test = train_test_split(df['text'], df['label_sentiment'], train_size=0.75, shuffle = True)"
   ]
  },
  {
   "cell_type": "code",
   "execution_count": 15,
   "id": "da551135-5366-4fa7-8d83-242011a1a47b",
   "metadata": {},
   "outputs": [],
   "source": [
    "tokenizer = AutoTokenizer.from_pretrained(\"bert-base-cased\")"
   ]
  },
  {
   "cell_type": "code",
   "execution_count": 16,
   "id": "ab4bfbce-637a-4acc-9428-688ef2a29e46",
   "metadata": {},
   "outputs": [],
   "source": [
    "train_tokens = tokenizer(list(x_train), padding = True, truncation=True)\n",
    "test_tokens = tokenizer(list(x_test), padding = True, truncation=True)"
   ]
  },
  {
   "cell_type": "code",
   "execution_count": 17,
   "id": "47ad8ee6-b7f0-4e05-9257-fc3a784f2910",
   "metadata": {},
   "outputs": [
    {
     "data": {
      "text/plain": [
       "dict_keys(['input_ids', 'token_type_ids', 'attention_mask'])"
      ]
     },
     "execution_count": 17,
     "metadata": {},
     "output_type": "execute_result"
    }
   ],
   "source": [
    "train_tokens.keys()"
   ]
  },
  {
   "cell_type": "code",
   "execution_count": 18,
   "id": "09358b22-b946-4ef7-9888-b86f7f556c01",
   "metadata": {},
   "outputs": [
    {
     "name": "stdout",
     "output_type": "stream",
     "text": [
      "[101, 1422, 13319, 1663, 1110, 1919, 141, 14962, 16523, 2069, 9537, 1822, 1113, 12816, 102, 0, 0, 0, 0, 0, 0, 0, 0, 0, 0, 0, 0, 0, 0, 0, 0, 0, 0, 0, 0, 0, 0, 0, 0, 0, 0, 0, 0, 0, 0, 0, 0, 0, 0, 0]\n",
      "[CLS] My Sharpie is running DANGERously low on ink [SEP] [PAD] [PAD] [PAD] [PAD] [PAD] [PAD] [PAD] [PAD] [PAD] [PAD] [PAD] [PAD] [PAD] [PAD] [PAD] [PAD] [PAD] [PAD] [PAD] [PAD] [PAD] [PAD] [PAD] [PAD] [PAD] [PAD] [PAD] [PAD] [PAD] [PAD] [PAD] [PAD] [PAD] [PAD] [PAD]\n"
     ]
    }
   ],
   "source": [
    "print(train_tokens['input_ids'][0])\n",
    "print(tokenizer.decode(train_tokens['input_ids'][0]))"
   ]
  },
  {
   "cell_type": "code",
   "execution_count": 19,
   "id": "28db0a92-bce6-42f5-b73d-b2744770e4d8",
   "metadata": {},
   "outputs": [],
   "source": [
    "class TokenData(Dataset):\n",
    "    def __init__(self, train = False):\n",
    "        if train:\n",
    "            self.text_data = x_train\n",
    "            self.tokens = train_tokens\n",
    "            self.labels = list(y_train)\n",
    "        else:\n",
    "            self.text_data = x_test\n",
    "            self.tokens = test_tokens\n",
    "            self.labels = list(y_test)\n",
    "\n",
    "    def __len__(self):\n",
    "        return len(self.text_data)\n",
    "\n",
    "    def __getitem__(self, idx):\n",
    "        sample = {}\n",
    "        for k, v in self.tokens.items():\n",
    "            sample[k] = torch.tensor(v[idx])\n",
    "        sample['labels'] = torch.tensor(self.labels[idx])\n",
    "        return sample"
   ]
  },
  {
   "cell_type": "code",
   "execution_count": 20,
   "id": "4a557a8f-e0e5-4a4f-9440-78c4d5b60e21",
   "metadata": {},
   "outputs": [],
   "source": [
    "batch_size = 16\n",
    "train_dataset = TokenData(train = True)\n",
    "train_loader = DataLoader(train_dataset, shuffle=True, batch_size=batch_size)\n",
    "\n",
    "test_dataset = TokenData(train = False)\n",
    "test_loader = DataLoader(test_dataset, shuffle=True, batch_size=batch_size)"
   ]
  },
  {
   "cell_type": "code",
   "execution_count": 21,
   "id": "6d207b01-81b5-45a2-8988-f3a63ab6c22c",
   "metadata": {},
   "outputs": [
    {
     "name": "stderr",
     "output_type": "stream",
     "text": [
      "Some weights of BertForSequenceClassification were not initialized from the model checkpoint at bert-base-cased and are newly initialized: ['classifier.bias', 'classifier.weight']\n",
      "You should probably TRAIN this model on a down-stream task to be able to use it for predictions and inference.\n"
     ]
    }
   ],
   "source": [
    "num_classes = 9\n",
    "bert_model = BertForSequenceClassification.from_pretrained('bert-base-cased', num_labels=num_classes) \n",
    "optimizer = AdamW(bert_model.parameters(), lr=1e-5) \n",
    "loss_fn = torch.nn.CrossEntropyLoss()"
   ]
  },
  {
   "cell_type": "code",
   "execution_count": 22,
   "id": "b1841cc2-fd0c-4795-8566-90a93d2f8b35",
   "metadata": {},
   "outputs": [],
   "source": [
    "torch.cuda.empty_cache()"
   ]
  },
  {
   "cell_type": "code",
   "execution_count": 23,
   "id": "8778882c-42a4-484b-a3af-c05fc8fb5c87",
   "metadata": {
    "scrolled": true
   },
   "outputs": [
    {
     "data": {
      "text/plain": [
       "BertForSequenceClassification(\n",
       "  (bert): BertModel(\n",
       "    (embeddings): BertEmbeddings(\n",
       "      (word_embeddings): Embedding(28996, 768, padding_idx=0)\n",
       "      (position_embeddings): Embedding(512, 768)\n",
       "      (token_type_embeddings): Embedding(2, 768)\n",
       "      (LayerNorm): LayerNorm((768,), eps=1e-12, elementwise_affine=True)\n",
       "      (dropout): Dropout(p=0.1, inplace=False)\n",
       "    )\n",
       "    (encoder): BertEncoder(\n",
       "      (layer): ModuleList(\n",
       "        (0-11): 12 x BertLayer(\n",
       "          (attention): BertAttention(\n",
       "            (self): BertSdpaSelfAttention(\n",
       "              (query): Linear(in_features=768, out_features=768, bias=True)\n",
       "              (key): Linear(in_features=768, out_features=768, bias=True)\n",
       "              (value): Linear(in_features=768, out_features=768, bias=True)\n",
       "              (dropout): Dropout(p=0.1, inplace=False)\n",
       "            )\n",
       "            (output): BertSelfOutput(\n",
       "              (dense): Linear(in_features=768, out_features=768, bias=True)\n",
       "              (LayerNorm): LayerNorm((768,), eps=1e-12, elementwise_affine=True)\n",
       "              (dropout): Dropout(p=0.1, inplace=False)\n",
       "            )\n",
       "          )\n",
       "          (intermediate): BertIntermediate(\n",
       "            (dense): Linear(in_features=768, out_features=3072, bias=True)\n",
       "            (intermediate_act_fn): GELUActivation()\n",
       "          )\n",
       "          (output): BertOutput(\n",
       "            (dense): Linear(in_features=3072, out_features=768, bias=True)\n",
       "            (LayerNorm): LayerNorm((768,), eps=1e-12, elementwise_affine=True)\n",
       "            (dropout): Dropout(p=0.1, inplace=False)\n",
       "          )\n",
       "        )\n",
       "      )\n",
       "    )\n",
       "    (pooler): BertPooler(\n",
       "      (dense): Linear(in_features=768, out_features=768, bias=True)\n",
       "      (activation): Tanh()\n",
       "    )\n",
       "  )\n",
       "  (dropout): Dropout(p=0.1, inplace=False)\n",
       "  (classifier): Linear(in_features=768, out_features=9, bias=True)\n",
       ")"
      ]
     },
     "execution_count": 23,
     "metadata": {},
     "output_type": "execute_result"
    }
   ],
   "source": [
    "num_epochs = 3\n",
    "device = \"cpu\"\n",
    "bert_model.to(device) # Transfer model to GPU if available"
   ]
  },
  {
   "cell_type": "code",
   "execution_count": 24,
   "id": "ec70cb07-1012-43a5-bcfe-5cfa27f0bb4a",
   "metadata": {},
   "outputs": [],
   "source": [
    "torch.cuda.empty_cache()"
   ]
  },
  {
   "cell_type": "code",
   "execution_count": 25,
   "id": "5839b315-3b1b-4538-956f-f1d180a99900",
   "metadata": {},
   "outputs": [
    {
     "name": "stdout",
     "output_type": "stream",
     "text": [
      "Epoch:  1\n",
      "Training batch 1 last loss: 0.14106597006320953\n",
      "Training batch 2 last loss: 0.14314334094524384\n",
      "Training batch 3 last loss: 0.126614511013031\n",
      "Training batch 4 last loss: 0.15440648794174194\n",
      "Training batch 5 last loss: 0.1243174821138382\n",
      "Training batch 6 last loss: 0.1327928751707077\n",
      "Training batch 7 last loss: 0.12581568956375122\n",
      "Training batch 8 last loss: 0.1333906501531601\n",
      "Training batch 9 last loss: 0.11242814362049103\n",
      "Training batch 10 last loss: 0.12320354580879211\n",
      "Training batch 11 last loss: 0.11810328811407089\n",
      "Training batch 12 last loss: 0.12420401722192764\n",
      "Training batch 13 last loss: 0.13248705863952637\n",
      "Training batch 14 last loss: 0.1158706322312355\n",
      "Training batch 15 last loss: 0.11173948645591736\n",
      "Training batch 16 last loss: 0.100409597158432\n",
      "Training batch 17 last loss: 0.10503875464200974\n",
      "Training batch 18 last loss: 0.10826652497053146\n",
      "Training batch 19 last loss: 0.10708161443471909\n",
      "Training batch 20 last loss: 0.10859351605176926\n",
      "Training batch 21 last loss: 0.10130535811185837\n",
      "Training batch 22 last loss: 0.10418235510587692\n",
      "Training batch 23 last loss: 0.10192267596721649\n",
      "Training batch 24 last loss: 0.25505797068277997\n",
      "\n",
      "Training epoch 1 loss:  0.25505797068277997\n",
      "Testing batch 1 loss: 0.09763215482234955\n",
      "Testing accuracy:  0.4375\n",
      "Testing batch 2 loss: 0.10073361545801163\n",
      "Testing accuracy:  0.375\n",
      "Testing batch 3 loss: 0.09775300323963165\n",
      "Testing accuracy:  0.4166666666666667\n",
      "Testing batch 4 loss: 0.09910724312067032\n",
      "Testing accuracy:  0.40625\n",
      "Testing batch 5 loss: 0.10021811723709106\n",
      "Testing accuracy:  0.375\n",
      "Testing batch 6 loss: 0.09910675883293152\n",
      "Testing accuracy:  0.3645833333333333\n",
      "Testing batch 7 loss: 0.10061665624380112\n",
      "Testing accuracy:  0.3392857142857143\n",
      "Testing batch 8 loss: 0.11795896750230056\n",
      "Testing accuracy:  0.4326923076923077\n",
      "\n",
      "Testing epoch 1 last loss:  0.11795896750230056\n",
      "Epoch:  2\n",
      "Training batch 1 last loss: 0.09742692112922668\n",
      "Training batch 2 last loss: 0.09887061268091202\n",
      "Training batch 3 last loss: 0.08937254548072815\n",
      "Training batch 4 last loss: 0.10102396458387375\n",
      "Training batch 5 last loss: 0.0920356884598732\n",
      "Training batch 6 last loss: 0.09369523823261261\n",
      "Training batch 7 last loss: 0.09063976258039474\n",
      "Training batch 8 last loss: 0.09768620878458023\n",
      "Training batch 9 last loss: 0.09223262220621109\n",
      "Training batch 10 last loss: 0.08868300169706345\n",
      "Training batch 11 last loss: 0.08865266293287277\n",
      "Training batch 12 last loss: 0.09063895791769028\n",
      "Training batch 13 last loss: 0.08484822511672974\n",
      "Training batch 14 last loss: 0.08782552182674408\n",
      "Training batch 15 last loss: 0.090229332447052\n",
      "Training batch 16 last loss: 0.0909472182393074\n",
      "Training batch 17 last loss: 0.08331415057182312\n",
      "Training batch 18 last loss: 0.08128917962312698\n",
      "Training batch 19 last loss: 0.08566020429134369\n",
      "Training batch 20 last loss: 0.08926008641719818\n",
      "Training batch 21 last loss: 0.08157501369714737\n",
      "Training batch 22 last loss: 0.08354935050010681\n",
      "Training batch 23 last loss: 0.08106894791126251\n",
      "Training batch 24 last loss: 0.22320789098739624\n",
      "\n",
      "Training epoch 2 loss:  0.22320789098739624\n",
      "Testing batch 1 loss: 0.0830107107758522\n",
      "Testing accuracy:  0.375\n",
      "Testing batch 2 loss: 0.07889634370803833\n",
      "Testing accuracy:  0.40625\n",
      "Testing batch 3 loss: 0.08121828734874725\n",
      "Testing accuracy:  0.4166666666666667\n",
      "Testing batch 4 loss: 0.0826602578163147\n",
      "Testing accuracy:  0.40625\n",
      "Testing batch 5 loss: 0.08009897172451019\n",
      "Testing accuracy:  0.4\n",
      "Testing batch 6 loss: 0.07905201613903046\n",
      "Testing accuracy:  0.40625\n",
      "Testing batch 7 loss: 0.07985289394855499\n",
      "Testing accuracy:  0.38392857142857145\n",
      "Testing batch 8 loss: 0.09936111706953782\n",
      "Testing accuracy:  0.47115384615384615\n",
      "\n",
      "Testing epoch 2 last loss:  0.09936111706953782\n",
      "Epoch:  3\n",
      "Training batch 1 last loss: 0.08086977899074554\n",
      "Training batch 2 last loss: 0.07963202893733978\n",
      "Training batch 3 last loss: 0.07846859842538834\n",
      "Training batch 4 last loss: 0.08438846468925476\n",
      "Training batch 5 last loss: 0.08273181319236755\n",
      "Training batch 6 last loss: 0.0773208737373352\n",
      "Training batch 7 last loss: 0.08006314188241959\n",
      "Training batch 8 last loss: 0.08033271133899689\n",
      "Training batch 9 last loss: 0.07774784415960312\n",
      "Training batch 10 last loss: 0.07814779877662659\n",
      "Training batch 11 last loss: 0.08064442873001099\n",
      "Training batch 12 last loss: 0.07366728782653809\n",
      "Training batch 13 last loss: 0.07391401380300522\n",
      "Training batch 14 last loss: 0.07574804127216339\n",
      "Training batch 15 last loss: 0.07269435375928879\n",
      "Training batch 16 last loss: 0.07745577394962311\n",
      "Training batch 17 last loss: 0.06934686005115509\n",
      "Training batch 18 last loss: 0.0641319751739502\n",
      "Training batch 19 last loss: 0.07299448549747467\n",
      "Training batch 20 last loss: 0.07119691371917725\n",
      "Training batch 21 last loss: 0.07036790251731873\n",
      "Training batch 22 last loss: 0.06919793039560318\n",
      "Training batch 23 last loss: 0.07830879837274551\n",
      "Training batch 24 last loss: 0.189182718594869\n",
      "\n",
      "Training epoch 3 loss:  0.189182718594869\n",
      "Testing batch 1 loss: 0.07186698913574219\n",
      "Testing accuracy:  0.3125\n",
      "Testing batch 2 loss: 0.07640689611434937\n",
      "Testing accuracy:  0.40625\n",
      "Testing batch 3 loss: 0.06084508076310158\n",
      "Testing accuracy:  0.5\n",
      "Testing batch 4 loss: 0.07123695313930511\n",
      "Testing accuracy:  0.5\n",
      "Testing batch 5 loss: 0.0756928101181984\n",
      "Testing accuracy:  0.4625\n",
      "Testing batch 6 loss: 0.06279563903808594\n",
      "Testing accuracy:  0.4791666666666667\n",
      "Testing batch 7 loss: 0.0734441801905632\n",
      "Testing accuracy:  0.4642857142857143\n",
      "Testing batch 8 loss: 0.09925925731658936\n",
      "Testing accuracy:  0.5192307692307693\n",
      "\n",
      "Testing epoch 3 last loss:  0.09925925731658936\n"
     ]
    }
   ],
   "source": [
    "for epoch in range(num_epochs):\n",
    "    print(\"Epoch: \", (epoch + 1))\n",
    "    bert_model.train()\n",
    "    for i, batch in enumerate(train_loader):\n",
    "        batch = {k: v.to(device) for k, v in batch.items()}\n",
    "\n",
    "        # Check for out-of-bound labels\n",
    "        if (batch['labels'] >= num_classes).any():\n",
    "            print(f\"Out-of-bound label found in batch {i+1}: \", batch['labels'])\n",
    "            continue  # Skip this batch\n",
    "\n",
    "        optimizer.zero_grad()\n",
    "        outputs = bert_model(input_ids=batch['input_ids'], attention_mask=batch['attention_mask'])\n",
    "        pred = outputs.logits\n",
    "        loss = loss_fn(pred, batch['labels'])\n",
    "        loss.backward()\n",
    "        optimizer.step()\n",
    "        train_batch_loss = loss.item()\n",
    "        train_last_loss = train_batch_loss / batch['input_ids'].size(0)\n",
    "\n",
    "        print('Training batch {} last loss: {}'.format(i + 1, train_last_loss))\n",
    "    print(f\"\\nTraining epoch {epoch + 1} loss: \", train_last_loss)\n",
    "\n",
    "    bert_model.eval()\n",
    "    correct = 0\n",
    "    for i, batch in enumerate(test_loader):\n",
    "        batch = {k: v.to(device) for k, v in batch.items()}\n",
    "        with torch.no_grad():\n",
    "            outputs = bert_model(input_ids=batch['input_ids'], attention_mask=batch['attention_mask'])\n",
    "\n",
    "        logits = outputs.logits\n",
    "        loss = loss_fn(logits, batch['labels'])\n",
    "        test_batch_loss = loss.item()\n",
    "        test_last_loss = test_batch_loss / batch['input_ids'].size(0)\n",
    "        print('Testing batch {} loss: {}'.format(i + 1, test_last_loss))\n",
    "\n",
    "        correct += (logits.argmax(1) == batch['labels']).sum().item()\n",
    "        print(\"Testing accuracy: \", correct / ((i + 1) * batch['input_ids'].size(0)))\n",
    "\n",
    "    print(f\"\\nTesting epoch {epoch + 1} last loss: \", test_last_loss)"
   ]
  }
 ],
 "metadata": {
  "kernelspec": {
   "display_name": "Python 3 (ipykernel)",
   "language": "python",
   "name": "python3"
  },
  "language_info": {
   "codemirror_mode": {
    "name": "ipython",
    "version": 3
   },
   "file_extension": ".py",
   "mimetype": "text/x-python",
   "name": "python",
   "nbconvert_exporter": "python",
   "pygments_lexer": "ipython3",
   "version": "3.11.5"
  }
 },
 "nbformat": 4,
 "nbformat_minor": 5
}
