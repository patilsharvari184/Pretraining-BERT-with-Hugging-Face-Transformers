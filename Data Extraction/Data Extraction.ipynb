{
 "cells": [
  {
   "cell_type": "code",
   "execution_count": 1,
   "id": "34b88ac8-fc5c-4b3c-b73f-c9e5e1e3d38f",
   "metadata": {
    "tags": []
   },
   "outputs": [],
   "source": [
    "import os\n",
    "import re\n",
    "import pandas as pd"
   ]
  },
  {
   "cell_type": "code",
   "execution_count": 5,
   "id": "22618a7e-6700-4d2c-b6dd-6458b4ce4dcc",
   "metadata": {
    "tags": []
   },
   "outputs": [],
   "source": [
    "file_path = \"transcriptions/transcriptions/Ses01F_impro06.txt\""
   ]
  },
  {
   "cell_type": "code",
   "execution_count": 12,
   "id": "656804be-04ae-4d35-a92d-0b7e89ca11f8",
   "metadata": {
    "tags": []
   },
   "outputs": [
    {
     "name": "stdout",
     "output_type": "stream",
     "text": [
      "Extracted sentences have been written to test_data.csv\n"
     ]
    }
   ],
   "source": [
    "import re\n",
    "import csv\n",
    "\n",
    "# Define the input and output file paths\n",
    "input_file_path = file_path\n",
    "output_file_path = 'test_data.csv'\n",
    "\n",
    "# Define the regex pattern to extract the meaningful sentence\n",
    "pattern = r\": (.*)$\"\n",
    "\n",
    "# Initialize a list to store the extracted sentences\n",
    "extracted_sentences = []\n",
    "\n",
    "# Read the input file and apply the regex to each line\n",
    "with open(input_file_path, 'r') as file:\n",
    "    for line in file:\n",
    "        match = re.search(pattern, line)\n",
    "        if match:\n",
    "            extracted_sentences.append(match.group(1))\n",
    "\n",
    "# Write the extracted sentences to a CSV file\n",
    "with open(output_file_path, 'w', newline='') as csvfile:\n",
    "    csvwriter = csv.writer(csvfile)\n",
    "    # Write the header\n",
    "    csvwriter.writerow(['Sentence'])\n",
    "    # Write the extracted sentences\n",
    "    for sentence in extracted_sentences:\n",
    "        csvwriter.writerow([sentence])\n",
    "\n",
    "print(f\"Extracted sentences have been written to {output_file_path}\")\n"
   ]
  },
  {
   "cell_type": "code",
   "execution_count": null,
   "id": "ba0f1159-90f2-4394-b72e-963603951f54",
   "metadata": {},
   "outputs": [],
   "source": []
  }
 ],
 "metadata": {
  "kernelspec": {
   "display_name": "Python 3 (ipykernel)",
   "language": "python",
   "name": "python3"
  },
  "language_info": {
   "codemirror_mode": {
    "name": "ipython",
    "version": 3
   },
   "file_extension": ".py",
   "mimetype": "text/x-python",
   "name": "python",
   "nbconvert_exporter": "python",
   "pygments_lexer": "ipython3",
   "version": "3.11.5"
  }
 },
 "nbformat": 4,
 "nbformat_minor": 5
}
