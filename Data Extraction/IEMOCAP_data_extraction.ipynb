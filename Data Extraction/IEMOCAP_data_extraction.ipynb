{
 "cells": [
  {
   "cell_type": "code",
   "execution_count": 15,
   "id": "7ed3d24e-44a3-4dff-965c-b1cbd21feccc",
   "metadata": {
    "tags": []
   },
   "outputs": [],
   "source": [
    "import re\n",
    "import os\n",
    "import csv\n",
    "import pandas as pd"
   ]
  },
  {
   "cell_type": "code",
   "execution_count": 16,
   "id": "b8b478e1-0509-4151-bb19-e278e162e9a7",
   "metadata": {
    "tags": []
   },
   "outputs": [
    {
     "name": "stdout",
     "output_type": "stream",
     "text": [
      "Extracted sentences have been written to output.csv\n"
     ]
    }
   ],
   "source": [
    "# Define the directory containing your text files\n",
    "input_directory = 'transcriptions/transcriptions'\n",
    "output_file_path = 'output.csv'\n",
    "\n",
    "# Define the regex pattern to extract the meaningful sentence\n",
    "pattern = r\": (.*)$\"\n",
    "\n",
    "# Initialize a list to store the extracted sentences\n",
    "extracted_sentences = []\n",
    "\n",
    "# Iterate over each file in the directory\n",
    "for filename in os.listdir(input_directory):\n",
    "    if filename.endswith(\".txt\"):\n",
    "        with open(os.path.join(input_directory, filename), 'r',  encoding='latin-1') as file:\n",
    "            for line in file:\n",
    "                match = re.search(pattern, line)\n",
    "                if match:\n",
    "                    extracted_sentences.append(match.group(1))\n",
    "\n",
    "# Write the extracted sentences to a CSV file\n",
    "with open(output_file_path, 'w', newline='') as csvfile:\n",
    "    csvwriter = csv.writer(csvfile)\n",
    "    # Write the header\n",
    "    csvwriter.writerow(['Sentence'])\n",
    "    # Write the extracted sentences\n",
    "    for sentence in extracted_sentences:\n",
    "        csvwriter.writerow([sentence])\n",
    "\n",
    "print(f\"Extracted sentences have been written to {output_file_path}\")\n"
   ]
  },
  {
   "cell_type": "code",
   "execution_count": 12,
   "id": "34e12ef0-e173-4220-8db4-d39854f8bcb3",
   "metadata": {
    "tags": []
   },
   "outputs": [],
   "source": [
    "df= pd.read_csv(\"iemocap_data.csv\")"
   ]
  },
  {
   "cell_type": "code",
   "execution_count": 13,
   "id": "e2e1a5ec-2410-4419-adc3-f4fa242995b8",
   "metadata": {
    "tags": []
   },
   "outputs": [
    {
     "data": {
      "text/html": [
       "<div>\n",
       "<style scoped>\n",
       "    .dataframe tbody tr th:only-of-type {\n",
       "        vertical-align: middle;\n",
       "    }\n",
       "\n",
       "    .dataframe tbody tr th {\n",
       "        vertical-align: top;\n",
       "    }\n",
       "\n",
       "    .dataframe thead th {\n",
       "        text-align: right;\n",
       "    }\n",
       "</style>\n",
       "<table border=\"1\" class=\"dataframe\">\n",
       "  <thead>\n",
       "    <tr style=\"text-align: right;\">\n",
       "      <th></th>\n",
       "      <th>Sentence</th>\n",
       "    </tr>\n",
       "  </thead>\n",
       "  <tbody>\n",
       "    <tr>\n",
       "      <th>0</th>\n",
       "      <td>What's he going to say?</td>\n",
       "    </tr>\n",
       "    <tr>\n",
       "      <th>1</th>\n",
       "      <td>Maybe we should tell him before he sees it.</td>\n",
       "    </tr>\n",
       "    <tr>\n",
       "      <th>2</th>\n",
       "      <td>He saw it.</td>\n",
       "    </tr>\n",
       "    <tr>\n",
       "      <th>3</th>\n",
       "      <td>How could he see it?  I was the first one up; ...</td>\n",
       "    </tr>\n",
       "    <tr>\n",
       "      <th>4</th>\n",
       "      <td>He was out here when it broke.</td>\n",
       "    </tr>\n",
       "  </tbody>\n",
       "</table>\n",
       "</div>"
      ],
      "text/plain": [
       "                                            Sentence\n",
       "0                            What's he going to say?\n",
       "1        Maybe we should tell him before he sees it.\n",
       "2                                         He saw it.\n",
       "3  How could he see it?  I was the first one up; ...\n",
       "4                     He was out here when it broke."
      ]
     },
     "execution_count": 13,
     "metadata": {},
     "output_type": "execute_result"
    }
   ],
   "source": [
    "df.head()"
   ]
  },
  {
   "cell_type": "code",
   "execution_count": 14,
   "id": "029d4327-bca4-4f85-a6f8-4113d32b2e4a",
   "metadata": {
    "tags": []
   },
   "outputs": [
    {
     "data": {
      "text/plain": [
       "(1845, 1)"
      ]
     },
     "execution_count": 14,
     "metadata": {},
     "output_type": "execute_result"
    }
   ],
   "source": [
    "df.shape"
   ]
  }
 ],
 "metadata": {
  "kernelspec": {
   "display_name": "Python 3 (ipykernel)",
   "language": "python",
   "name": "python3"
  },
  "language_info": {
   "codemirror_mode": {
    "name": "ipython",
    "version": 3
   },
   "file_extension": ".py",
   "mimetype": "text/x-python",
   "name": "python",
   "nbconvert_exporter": "python",
   "pygments_lexer": "ipython3",
   "version": "3.12.3"
  }
 },
 "nbformat": 4,
 "nbformat_minor": 5
}
